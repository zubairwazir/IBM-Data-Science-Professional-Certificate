{
 "cells": [
  {
   "cell_type": "code",
   "execution_count": 1,
   "id": "81c222ae",
   "metadata": {},
   "outputs": [],
   "source": [
    "### <> (Not Equal to)\n",
    "###SELECT Title, ProductionCompany, Locations, ReleaseYear FROM FilmLocations WHERE Writer<>\"James Cameron\";"
   ]
  },
  {
   "cell_type": "markdown",
   "id": "2991f5e2",
   "metadata": {},
   "source": [
    "Retrieve the first 15 rows from the “FilmLocations” table starting from row 11."
   ]
  },
  {
   "cell_type": "raw",
   "id": "a6a7f3ee",
   "metadata": {},
   "source": [
    "# SELECT * FROM FilmLocations LIMIT 15 OFFSET 10;"
   ]
  },
  {
   "cell_type": "raw",
   "id": "dd5de466",
   "metadata": {},
   "source": [
    "SELECT DISTINCT Title FROM FilmLocations WHERE ReleaseYear=2015 LIMIT 3 OFFSET 5;"
   ]
  },
  {
   "cell_type": "markdown",
   "id": "f459440f",
   "metadata": {},
   "source": [
    "## Relational Model"
   ]
  },
  {
   "cell_type": "markdown",
   "id": "8471bd25",
   "metadata": {},
   "source": [
    "## Entity Relational Model (ERD) <br>\n",
    "- Entity = Table (Object -> Noun -> Person, book etc)\n",
    "- Attributes = Columns (charactristics of entity)"
   ]
  },
  {
   "cell_type": "markdown",
   "id": "140557d7",
   "metadata": {},
   "source": [
    "## DML - Data Manipulation Language\n",
    "- Select\n",
    "- Insert\n",
    "- Update\n",
    "- Delete"
   ]
  },
  {
   "cell_type": "markdown",
   "id": "89568f79",
   "metadata": {},
   "source": [
    "__Data Manipulation Language statements like INSERT, SELECT, UPDATE, and DELETE are used to read and modify data. (Directly related to Rows)__"
   ]
  },
  {
   "cell_type": "markdown",
   "id": "0011ccfc",
   "metadata": {},
   "source": [
    "## DDL - Data Definition Language <br>\n",
    "- CREATE - Create new table\n",
    "- ALTER  - Add, delete, or modify columns in an existing table\n",
    "- DROP   - Delete the table\n",
    "- TRUNCATE-Delete table data but not Table"
   ]
  },
  {
   "cell_type": "markdown",
   "id": "08902bdd",
   "metadata": {},
   "source": [
    "__Data Definition Language (or DDL) statements like CREATE, ALTER, DROP, TRUNCATE are used to define, change, or delete database objects such as tables.__"
   ]
  },
  {
   "cell_type": "markdown",
   "id": "a693a1ef",
   "metadata": {},
   "source": [
    "### CREATE <br>\n",
    "`CREATE TABLE table_name (\n",
    "    column1 datatype,\n",
    "    column2 datatype,\n",
    "    column3 datatype,\n",
    "   ....\n",
    ");`"
   ]
  },
  {
   "cell_type": "markdown",
   "id": "81dbf4fc",
   "metadata": {},
   "source": [
    "### Alter <br>\n",
    "`ALTER TABLE table_name\n",
    "ADD COLUMN column_name data_type column_constraint;`\n",
    "\n",
    "`ALTER TABLE table_name\n",
    "DROP COLUMN column_name;`\n",
    "\n",
    "`ALTER TABLE table_name\n",
    "ALTER COLUMN column_name SET DATA TYPE data_type;`\n",
    "\n",
    "`ALTER TABLE table_name\n",
    "RENAME COLUMN current_column_name TO new_column_name;`"
   ]
  },
  {
   "cell_type": "markdown",
   "id": "bb475d46",
   "metadata": {},
   "source": [
    "### TRUNCATE <br>\n",
    "`TRUNCATE TABLE table_name IMMEDIATE;`"
   ]
  },
  {
   "cell_type": "markdown",
   "id": "cdff8ddf",
   "metadata": {},
   "source": [
    "### DROP\n",
    "`DROP TABLE table_name;`"
   ]
  },
  {
   "cell_type": "markdown",
   "id": "9e28c2c9",
   "metadata": {},
   "source": [
    "## Summary <br>\n",
    "- A database is a repository of data that provides functionality for adding, modifying, and querying the data. \n",
    "\n",
    "- SQL is a language used to query or retrieve data from a relational database. \n",
    "\n",
    "- The Relational Model is the most used data model for databases because it allows for data independence. \n",
    "\n",
    "- The primary key of a relational table uniquely identifies each tuple or row, preventing duplication of data and providing a way of defining relationships between tables. \n",
    "\n",
    "- SQL statements fall into two different categories: Data Definition Language (DDL) statements and Data Manipulation Language (DML) statements."
   ]
  },
  {
   "cell_type": "code",
   "execution_count": 3,
   "id": "d2969d71",
   "metadata": {},
   "outputs": [],
   "source": [
    "%load_ext sql"
   ]
  },
  {
   "cell_type": "code",
   "execution_count": 4,
   "id": "22bba6bc",
   "metadata": {},
   "outputs": [],
   "source": [
    "%sql sqlite:///mydb.db"
   ]
  },
  {
   "cell_type": "code",
   "execution_count": 9,
   "id": "61148a22",
   "metadata": {},
   "outputs": [
    {
     "name": "stdout",
     "output_type": "stream",
     "text": [
      " * sqlite:///mydb.db\n",
      "Done.\n"
     ]
    },
    {
     "data": {
      "text/html": [
       "<table>\n",
       "    <thead>\n",
       "        <tr>\n",
       "            <th>id</th>\n",
       "            <th>name</th>\n",
       "        </tr>\n",
       "    </thead>\n",
       "    <tbody>\n",
       "        <tr>\n",
       "            <td>1</td>\n",
       "            <td>test</td>\n",
       "        </tr>\n",
       "    </tbody>\n",
       "</table>"
      ],
      "text/plain": [
       "[(1, 'test')]"
      ]
     },
     "execution_count": 9,
     "metadata": {},
     "output_type": "execute_result"
    }
   ],
   "source": [
    "%%sql \n",
    "SELECT * FROM testtable"
   ]
  },
  {
   "cell_type": "markdown",
   "id": "3d0458b6",
   "metadata": {},
   "source": [
    "# Week 3"
   ]
  },
  {
   "cell_type": "markdown",
   "id": "c35182d2",
   "metadata": {},
   "source": [
    "## String Patterns and Ranges"
   ]
  },
  {
   "cell_type": "markdown",
   "id": "0a29eeca",
   "metadata": {},
   "source": [
    "You can use the WHERE clause to refine your query results.\n",
    "\n",
    "You can use the wildcard character (%) as a substitute for unknown characters in a pattern.\n",
    "\n",
    "You can use BETWEEN ... AND ... to specify a range of numbers.\n",
    "\n",
    "You can sort query results into ascending or descending order, using the ORDER BY clause to specify the column to sort on.\n",
    "\n",
    "You can group query results by using the GROUP BY clause. "
   ]
  },
  {
   "cell_type": "markdown",
   "id": "5af4be6a",
   "metadata": {},
   "source": [
    "## Built-in Database Functions"
   ]
  },
  {
   "cell_type": "markdown",
   "id": "196ad1b0",
   "metadata": {},
   "source": [
    "### Aggregate or Column Function"
   ]
  },
  {
   "cell_type": "markdown",
   "id": "b3470e08",
   "metadata": {},
   "source": [
    "### Input: `Collection of Values(e.g. entir column)`\n",
    "### Output: `Single value` <br>\n",
    "- __sum__, \n",
    "- __minimum__, \n",
    "- __maximum__, \n",
    "- __average__,"
   ]
  },
  {
   "cell_type": "markdown",
   "id": "dc09aa4c",
   "metadata": {},
   "source": [
    "Most databases come with built-in functions that you can use in SQL statements to perform operations on data within the database itself.\n",
    "\n",
    "When you work with large datasets, you may save time by using built-in functions rather than first retrieving the data into your application and then executing functions on the retrieved data.\n",
    "\n",
    "You can use sub-queries to form more powerful queries than otherwise.\n",
    "\n",
    "You can use a sub-select expression to evaluate some built-in aggregate functions like the average function. \n",
    "\n",
    "Derived tables or table expressions are sub-queries where the outer query uses the results of the sub-query as a data source."
   ]
  },
  {
   "cell_type": "markdown",
   "id": "8eac66d9",
   "metadata": {},
   "source": [
    "### SQL queries that access multiple tables <br>\n",
    "- **Accessing Multiple Tables with Sub-Queries**\n",
    "- **Accessing Multiple Tables with Implicit Joins**\n",
    "- **Accessing Multiple Tables with Explicit Joins**"
   ]
  },
  {
   "cell_type": "markdown",
   "id": "e32ef9ef",
   "metadata": {},
   "source": [
    "#### How does an Implicit version of CROSS JOIN (also known as Cartesian Join) statement syntax look?\n",
    "\n",
    "`SELECT column_name(s)\n",
    "FROM table1, table2;`"
   ]
  },
  {
   "cell_type": "markdown",
   "id": "a67205ec",
   "metadata": {},
   "source": [
    "#### How does an Implicit version of INNER JOIN statement syntax look?\n",
    "\n",
    "`SELECT column_name(s)\n",
    "FROM table1, table2\n",
    "WHERE table1.column_name = table2.column_name;`"
   ]
  },
  {
   "cell_type": "markdown",
   "id": "1f51ba95",
   "metadata": {},
   "source": [
    "# Week 4"
   ]
  },
  {
   "cell_type": "markdown",
   "id": "744fab57",
   "metadata": {},
   "source": [
    "## SQL Magic <br>\n",
    "- **Cell magics**: start with a double %% sign and apply to the entire cell\n",
    "\n",
    "- **Line magics**: start with a single % (percent) sign and apply to a particular line in a cell"
   ]
  },
  {
   "cell_type": "markdown",
   "id": "7fd238ee",
   "metadata": {},
   "source": [
    "### %magicname arguments"
   ]
  },
  {
   "cell_type": "markdown",
   "id": "005480a6",
   "metadata": {},
   "source": [
    "%sql select * from tablename"
   ]
  },
  {
   "cell_type": "markdown",
   "id": "eb5dc57a",
   "metadata": {},
   "source": [
    "You can access a database from a language like Python by using the appropriate API. Examples include ibm_db API for IBM DB2, psycopg2 for ProstgreSQL, and dblib API for SQL Server.\n",
    "\n",
    "DB-API is Python's standard API for accessing relational databases. It allows you to write a single program that works with multiple kinds of relational databases instead of writing a separate program for each one.\n",
    "\n",
    "The DB_API  connect constructor creates a connection to the database and returns a Connection Object, which is then used by the various connection methods.\n",
    "\n",
    "The connection methods are:\n",
    "The cursor() method, which returns a new cursor object using the connection.\n",
    "The commit() method, which is used to commit any pending transaction to the database.\n",
    "The rollback() method, which causes the database to roll-back to the start of any pending transaction.\n",
    "The close() method, which is used to close a database connection. \n",
    "\n",
    "You can use SQL Magic commands to execute queries more easily from Jupyter Notebooks. \n",
    "Magic commands have the general format %sql select * from tablename.\n",
    "Cell magics start with a double %% (percent) sign and apply to the entire cell.\n",
    "Line magics start with a single % (percent) sign and apply to a particular line in a cell."
   ]
  },
  {
   "cell_type": "markdown",
   "id": "967448ba",
   "metadata": {},
   "source": [
    "# Week 5"
   ]
  },
  {
   "cell_type": "markdown",
   "id": "ea926f28",
   "metadata": {},
   "source": [
    "## Real World Datasets"
   ]
  },
  {
   "cell_type": "code",
   "execution_count": null,
   "id": "4a546f04",
   "metadata": {},
   "outputs": [],
   "source": []
  }
 ],
 "metadata": {
  "kernelspec": {
   "display_name": "Python 3 (ipykernel)",
   "language": "python",
   "name": "python3"
  },
  "language_info": {
   "codemirror_mode": {
    "name": "ipython",
    "version": 3
   },
   "file_extension": ".py",
   "mimetype": "text/x-python",
   "name": "python",
   "nbconvert_exporter": "python",
   "pygments_lexer": "ipython3",
   "version": "3.9.12"
  }
 },
 "nbformat": 4,
 "nbformat_minor": 5
}
