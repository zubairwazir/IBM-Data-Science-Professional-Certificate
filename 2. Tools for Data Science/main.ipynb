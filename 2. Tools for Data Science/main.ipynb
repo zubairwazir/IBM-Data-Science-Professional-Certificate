{
 "cells": [
  {
   "cell_type": "markdown",
   "id": "f47147b2",
   "metadata": {},
   "source": [
    "# Week 1"
   ]
  },
  {
   "cell_type": "markdown",
   "id": "d1ecce57",
   "metadata": {},
   "source": [
    "Congratulations! You have completed this module. At this point in the course, you know:\n",
    "\n",
    "You should select a language to learn depending on your needs, the problems you are trying to solve, and whom you are solving them for.\n",
    "\n",
    "The popular languages are Python, R, SQL, Scala, Java, C++, and Julia.\n",
    "\n",
    "For data science, you can use Python's scientific computing libraries like Pandas, NumPy, SciPy, and Matplotlib. \n",
    "\n",
    "Python can also be used for Natural Language Processing (NLP) using the Natural Language Toolkit (NLTK). \n",
    "\n",
    "Python is open source, and R is free software. \n",
    "\n",
    "R language’s array-oriented syntax makes it easier to translate from math to code for learners with no or minimal programming background.\n",
    "\n",
    "SQL is different from other software development languages because it is a non-procedural language.\n",
    "\n",
    "SQL was designed for managing data in relational databases. \n",
    "\n",
    "If you learn SQL and use it with one database, you can apply your SQL knowledge with many other databases easily.\n",
    "\n",
    "Data science tools built with Java include Weka, Java-ML, Apache MLlib, and Deeplearning4.\n",
    "\n",
    "For data science, popular program built with Scala is Apache Spark which includes Shark, MLlib, GraphX, and Spark Streaming.\n",
    "\n",
    "Programs built for Data Science with JavaScript include TensorFlow.js and R-js.\n",
    "\n",
    "One great application of Julia for Data Science is JuliaDB."
   ]
  },
  {
   "cell_type": "markdown",
   "id": "55119f79",
   "metadata": {},
   "source": [
    "# Week 3"
   ]
  },
  {
   "cell_type": "markdown",
   "id": "30c8defa",
   "metadata": {},
   "source": [
    "Libraries usually contain built-in modules that provide different functionalities.\n",
    "\n",
    "You can use data visualization methods to communicate with others and display meaningful results of an analysis. \n",
    "\n",
    "For machine learning, the Scikit-learn library contains tools for statistical modeling, including regression, classification, clustering, and so on.\n",
    "\n",
    "Large-scale production of deep-learning models use TensorFlow, a low-level framework. \n",
    "\n",
    "Apache Spark is a general-purpose cluster-computing framework that allows you to process data using compute clusters.\n",
    "\n",
    "An application programming interface (API) allows communication between two pieces of software.\n",
    "\n",
    "API is the part of the library you see while the library contains all the components of the program. \n",
    "\n",
    "REST APIs allow you to communicate through the internet and take advantage of resources like storage, data, artificially intelligent algorithms, and much more.\n",
    "\n",
    "Open data is fundamental to Data Science.\n",
    "\n",
    "Community Data License Agreement makes it easier to share open data.\n",
    "\n",
    "The IBM Data Asset eXchange (DAX) site contains high-quality open data sets.\n",
    "\n",
    "DAX open data sets include tutorial notebooks that provide basic and advanced walk-throughs for developers.\n",
    "\n",
    "DAX notebooks open in Watson Studio.\n",
    "\n",
    "Machine learning (ML) uses algorithms – also known as “models” – to identify patterns in the data. \n",
    "\n",
    "Types of ML are Supervised, Unsupervised, and Reinforcement. \n",
    "\n",
    "Supervised learning comprises two types of models, regression and classification.\n",
    "\n",
    "Deep learning refers to a general set of models and techniques that loosely emulate the way the human brain solves a wide range of problems.\n",
    "\n",
    "The Model Asset eXchange is a free, open-source repository for ready-to-use and customizable deep-learning microservices.\n",
    "\n",
    "MAX model-serving microservices are built and distributed on GitHub as open-source Docker images.\n",
    "\n",
    "You can use Red Hat OpenShift, a Kubernetes platform, to automate deployment, scaling, and management of microservices.\n",
    "\n",
    "Ml-exchange.org has multiple predefined models."
   ]
  },
  {
   "cell_type": "code",
   "execution_count": null,
   "id": "ea9c7b86",
   "metadata": {},
   "outputs": [],
   "source": []
  }
 ],
 "metadata": {
  "kernelspec": {
   "display_name": "Python 3 (ipykernel)",
   "language": "python",
   "name": "python3"
  },
  "language_info": {
   "codemirror_mode": {
    "name": "ipython",
    "version": 3
   },
   "file_extension": ".py",
   "mimetype": "text/x-python",
   "name": "python",
   "nbconvert_exporter": "python",
   "pygments_lexer": "ipython3",
   "version": "3.9.12"
  }
 },
 "nbformat": 4,
 "nbformat_minor": 5
}
