{
 "cells": [
  {
   "cell_type": "markdown",
   "id": "7bbf09d3",
   "metadata": {},
   "source": [
    "## Machine Learning\n",
    "\n",
    "*subfield of computer science that gives \"computer the ability to learn without being explicitly programmed.\"*"
   ]
  },
  {
   "cell_type": "markdown",
   "id": "01afd69e",
   "metadata": {},
   "source": [
    "1. ## Supervised Learning\n",
    "Training model with labelled data (supervising). Dependent and independent variables both should be labelled.\n",
    "\n",
    "1. Regression\n",
    "2. Classification"
   ]
  },
  {
   "cell_type": "markdown",
   "id": "72003258",
   "metadata": {},
   "source": [
    "2. ## Unsupervised Learning\n",
    "Training model with unlabelled data (not supervising). The model works on its own to discover information.\n",
    "\n",
    "1. Clustering\n",
    "2. Dimension Reduction\n",
    "3. Density estimation\n",
    "4. Market basket analysis"
   ]
  },
  {
   "cell_type": "markdown",
   "id": "fb33e1bc",
   "metadata": {},
   "source": [
    "### Major ML Techniques \n",
    "\n",
    "**Regression/Estimation** - Predicting continuous values\n",
    "   \n",
    "**Calssification** - Predicting the item class/category of a case\n",
    "   \n",
    "**Clustering** - Finding the structure of data; summarization\n",
    "   \n",
    "**Association** - Associating frequent co-occuring items/events  \n",
    "   \n",
    "**Anamoly Detection** - Discovering abnormal and unusual cases \n",
    "   \n",
    "**Sequence Mining** - Predicting next events; click-stream (Morkov Model, HMM)   \n",
    "   \n",
    "**Dimension Reduction** - Reducing the size of data (PCA) \n",
    "   \n",
    "**Recommendation System** - Recommending items"
   ]
  },
  {
   "cell_type": "markdown",
   "id": "ebe6ef08",
   "metadata": {},
   "source": [
    "## Regression\n",
    "Process of predicting continuous values.\n",
    "\n",
    "**Simple Regression**\n",
    "- Simple Linear Regression\n",
    "- Simple Non-Linear Regression\n",
    "\n",
    "**Multiple Regression**\n",
    "- Multiple Linear Regression\n",
    "- Multiple Non-Linear Regression\n",
    "\n",
    "### Regression Algorithms\n",
    "- Ordinal regression\n",
    "- Poisson regression\n",
    "- Fast Forest quantile regression\n",
    "- Linear, Polynomial, Lasso, Stepwise, Ridge regression\n",
    "- Bayesian Linear regression\n",
    "- Neural Network regression\n",
    "- Decision forest regression\n",
    "- Boosted decision tree regression\n",
    "- KNN(K-nearest neighbors)\n",
    "\n",
    "### Regression Applications\n",
    "- Sales forecasting\n",
    "- Satisfaction analysis\n",
    "- Price estimation\n",
    "- Employment income\n",
    "\n",
    "### Regression Accuracy \n",
    "- MAE - Mean Absolute Error\n",
    "- MSE - Mean Square Error\n",
    "- RMSE - Root Mean Square Error\n",
    "\n",
    "Error = 1/n{j.j=1|yj - y^|   > (Actual values - Predicted values)\n",
    "\n",
    "Error = (223 - 210) + (320 - 319) + (210 - 207) + (222 - 219)/4\n",
    "\n",
    "## Q&A - on Multiple Linear Regression\n",
    "\n",
    "- Too many independent variables makes model overfit."
   ]
  },
  {
   "cell_type": "markdown",
   "id": "1faf8469",
   "metadata": {},
   "source": [
    "## Classification\n",
    "Process of predicting class items/category\n",
    "    \n",
    "### Classification Algorithms\n",
    "- Decision Trees (ID3, C4.5, C5.0)\n",
    "- Naive Bayes\n",
    "- Linear Discriminant Analysis\n",
    "- K-Nearest Neighbor\n",
    "- Logistic Regression\n",
    "- Neural Networks\n",
    "- Support Vector Machines (SVM)"
   ]
  },
  {
   "cell_type": "markdown",
   "id": "cca07228",
   "metadata": {},
   "source": [
    "## KNN\n",
    "A method for classifying cases based on their similarity to other cases.\n",
    "- cases that are near each other are said to be \"neighbors\"\n",
    "- Based on similar cases with same class labels are near each other."
   ]
  },
  {
   "cell_type": "markdown",
   "id": "a65c4fe3",
   "metadata": {},
   "source": [
    "## Model Evaluation \n",
    "\n",
    "### Jaccard index\n",
    "    y: Actual labels \n",
    "    y^: Predicted labels\n",
    "    \n",
    "    J(y,y^) = |y int y^|/|y un y^| = |y int y^|/|y| + |y^| - |y int y^|\n",
    "    \n",
    "    y: [0,0,0,0,0,1,1,1,1,1]\n",
    "    y^:[1,1,0,0,0,1,1,1,1,1]\n",
    "    \n",
    "    J(y,y^) = 8/10+10-8 = 0.66\n",
    "    \n",
    "### F1-score\n",
    "\n",
    "**Confusion Matrix**   > TP-FN-FP-TN\n",
    "\n",
    "Precision = average accuracy\n",
    "\n",
    "- Precision = TP/(TP + FP)\n",
    "- Recall = TP/(TP + FN)\n",
    "- F1-score = 2 x (prc x rec) / prc + rec)\n",
    "\n",
    "### Log Loss\n",
    "Performance of a classifier where the predicted output is a probability value between 0 and 1.\n",
    "\n",
    "    LogLoss = 1/n { (y x log(y^) + (1 - y) x log(1 - y^))"
   ]
  },
  {
   "cell_type": "markdown",
   "id": "e3c3f80f",
   "metadata": {},
   "source": [
    "## Decision Tree Learning Algorithm\n",
    "1. Chose an attribute from your dataset.\n",
    "2. Calculate the significance of attribute in splitting of data.\n",
    "3. Split data based on the value of the best attribute.\n",
    "4. Go to step 1.\n",
    "\n"
   ]
  },
  {
   "cell_type": "markdown",
   "id": "59dcc0e7",
   "metadata": {},
   "source": [
    "## Logistic Regression\n",
    "Classification algorithm for categorical variables.\n",
    "\n",
    "- **Linear Regression predicts numerical values (continuous values such as price of a house, blood pressure, fuel consumption)** <br>\n",
    "- **Logistic Regression predicts binary values (categoy values like YES/NO, TRUE/FALSE, Successful/Not successful etc) all of which will coded 0/1**\n",
    "\n",
    "- Can be used for both binary and multiclass classification\n",
    "- Independent variables should be continuous if categorical they should be dummy or indicator coded means we have to transform them to continuous.\n",
    "\n",
    "### Logistic Regression\n",
    "- Predicting the probability of a person having a heart attack\n",
    "- Predicting the mortality in injured patients\n",
    "- Predicting a customer's propensity to purchase a product or halt a subscription\n",
    "- Predicting the probability of failure of a given process or prodcut\n",
    "- Predicting the likelihood of a homewner deafulting on a mortgage\n",
    "\n",
    "### When is logistic regression suitable?\n",
    "- if your data is binary\n",
    "    - 0/1, YES/NO, True/False, Churn/No churn\n",
    "- if you need probabilistic results\n",
    "    - the probability of your output lies between 0 and 1\n",
    "- when you need a linear decision boundary\n",
    "    - 0 + 01x1 + 02x2 > 0\n",
    "- if you need to understand the impact of a feature"
   ]
  },
  {
   "cell_type": "markdown",
   "id": "8f4871aa",
   "metadata": {},
   "source": [
    "## Clustering\n",
    "\n"
   ]
  },
  {
   "cell_type": "markdown",
   "id": "808f7189",
   "metadata": {},
   "source": []
  },
  {
   "cell_type": "markdown",
   "id": "f2f47de3",
   "metadata": {},
   "source": [
    "## Sciket Learn Model "
   ]
  },
  {
   "cell_type": "code",
   "execution_count": null,
   "id": "9cd52c66",
   "metadata": {},
   "outputs": [],
   "source": [
    "from sklearn import preprocessing\n",
    "X = preprocessing.StandardScaler().fit(X).transform(X)"
   ]
  },
  {
   "cell_type": "code",
   "execution_count": null,
   "id": "dfccc721",
   "metadata": {},
   "outputs": [],
   "source": [
    "from sklearn.model_selection import train_test_split\n",
    "X_train, X_test, y_train, y_test = train_test_split(X, y, test_size=.2)"
   ]
  },
  {
   "cell_type": "code",
   "execution_count": null,
   "id": "a49e98d5",
   "metadata": {},
   "outputs": [],
   "source": [
    "from sklearn import svm\n",
    "clf = svm.SVC(gamma=0.001, C=100.)"
   ]
  },
  {
   "cell_type": "code",
   "execution_count": null,
   "id": "a0b52900",
   "metadata": {},
   "outputs": [],
   "source": [
    "clf.fit(X_train, y_train)"
   ]
  },
  {
   "cell_type": "code",
   "execution_count": null,
   "id": "66356a0f",
   "metadata": {},
   "outputs": [],
   "source": [
    "clf.predict(X_test)"
   ]
  },
  {
   "cell_type": "code",
   "execution_count": null,
   "id": "6bf62706",
   "metadata": {},
   "outputs": [],
   "source": [
    "from sklearn.metrics import confusion_matrix\n",
    "print(confusion_matrix(y_test, yhat, labels=[1, 0]))"
   ]
  },
  {
   "cell_type": "code",
   "execution_count": null,
   "id": "31239ef3",
   "metadata": {},
   "outputs": [],
   "source": [
    "import pickle\n",
    "s = pickle.dumps(clf)"
   ]
  },
  {
   "cell_type": "code",
   "execution_count": null,
   "id": "b3f8c97c",
   "metadata": {},
   "outputs": [],
   "source": []
  }
 ],
 "metadata": {
  "kernelspec": {
   "display_name": "Python 3 (ipykernel)",
   "language": "python",
   "name": "python3"
  },
  "language_info": {
   "codemirror_mode": {
    "name": "ipython",
    "version": 3
   },
   "file_extension": ".py",
   "mimetype": "text/x-python",
   "name": "python",
   "nbconvert_exporter": "python",
   "pygments_lexer": "ipython3",
   "version": "3.11.6"
  }
 },
 "nbformat": 4,
 "nbformat_minor": 5
}
