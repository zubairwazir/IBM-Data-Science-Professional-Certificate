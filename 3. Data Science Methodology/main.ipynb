{
 "cells": [
  {
   "cell_type": "markdown",
   "id": "b9a620b2",
   "metadata": {},
   "source": [
    "# Week 1"
   ]
  },
  {
   "cell_type": "markdown",
   "id": "3a4857a1",
   "metadata": {},
   "source": [
    "## CRISP-DM \n",
    "__cross industry process for data mining__"
   ]
  },
  {
   "cell_type": "markdown",
   "id": "35e69e97",
   "metadata": {},
   "source": [
    "1. Business Understanding\n",
    "2. Data Understanding\n",
    "3. Modeling\n",
    "4. Evaluation\n",
    "5. Deployment"
   ]
  },
  {
   "cell_type": "code",
   "execution_count": null,
   "id": "461a6844",
   "metadata": {},
   "outputs": [],
   "source": []
  }
 ],
 "metadata": {
  "kernelspec": {
   "display_name": "Python 3 (ipykernel)",
   "language": "python",
   "name": "python3"
  },
  "language_info": {
   "codemirror_mode": {
    "name": "ipython",
    "version": 3
   },
   "file_extension": ".py",
   "mimetype": "text/x-python",
   "name": "python",
   "nbconvert_exporter": "python",
   "pygments_lexer": "ipython3",
   "version": "3.9.12"
  }
 },
 "nbformat": 4,
 "nbformat_minor": 5
}
