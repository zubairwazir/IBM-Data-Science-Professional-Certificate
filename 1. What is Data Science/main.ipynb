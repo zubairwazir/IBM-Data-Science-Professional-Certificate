{
 "cells": [
  {
   "cell_type": "markdown",
   "id": "af3a6dd2",
   "metadata": {},
   "source": [
    "# Week 1"
   ]
  },
  {
   "cell_type": "markdown",
   "id": "a4b6e494",
   "metadata": {},
   "source": [
    "The typical work day for a Data Scientist varies depending on what type of project they are working on.\n",
    "\n",
    "Many algorithms are used to bring out insights from data. \n",
    "\n",
    "Accessing algorithms, tools, and data through the Cloud enables Data Scientists to stay up-to-date and collaborate easily."
   ]
  },
  {
   "cell_type": "markdown",
   "id": "d95fcc1d",
   "metadata": {},
   "source": [
    "# Week 2"
   ]
  },
  {
   "cell_type": "markdown",
   "id": "1b8cacb0",
   "metadata": {},
   "source": [
    "### Big Data\n",
    "“Big Data refers to the dynamic, large and disparate volumes of data being created by people, tools, and machines. It requires new, innovative, and scalable technology to collect, host, and analytically process the vast amount of data gathered in order to derive real-time business insights that relate to consumers, risk, profit, performance, productivity management, and enhanced shareholder value.” "
   ]
  },
  {
   "cell_type": "markdown",
   "id": "275410e3",
   "metadata": {},
   "source": [
    "How Big Data is defined by the Vs: Velocity, Volume, Variety, Veracity, and Value.\n",
    "\n",
    "How Hadoop and other tools, combined with distributed computing power,  are used to handle the demands of Big Data.  \n",
    "\n",
    "What skills are required to analyse Big Data. \n",
    "\n",
    "About the process of Data Mining, and how it produces results."
   ]
  },
  {
   "cell_type": "markdown",
   "id": "890fd3dc",
   "metadata": {},
   "source": [
    "# Week 3"
   ]
  },
  {
   "cell_type": "markdown",
   "id": "9f4d215d",
   "metadata": {},
   "source": [
    "Have You Done Your Job as a Writer?\n",
    "As a data scientist, you are expected to do thorough analysis with the appropriate data, deploying the appropriate tools. As a writer, you are responsible for communicating your findings to the readers. Transport Policy, a leading research publication in transportation planning, offers a checklist for authors interested in publishing with the journal. The checklist is a series of questions authors are expected to consider before submitting their manuscripts to the journal. I believe the checklist is useful for budding data scientists and, therefore, I have reproduced it verbatim for their benefit.\n",
    "\n",
    "Have you told readers, at the outset, what they might gain by reading your paper?\n",
    "\n",
    "Have you made the aim of your work clear?\n",
    "\n",
    "Have you explained the significance of your contribution?\n",
    "\n",
    "Have you set your work in the appropriate context by giving sufficient background (including a complete set of relevant references) to your work?\n",
    "\n",
    "Have you addressed the question of practicality and usefulness?\n",
    "\n",
    "Have you identified future developments that might result from your work?\n",
    "\n",
    "Have you structured your paper in a clear and logical fashion?"
   ]
  },
  {
   "cell_type": "code",
   "execution_count": null,
   "id": "011242a4",
   "metadata": {},
   "outputs": [],
   "source": []
  }
 ],
 "metadata": {
  "kernelspec": {
   "display_name": "Python 3 (ipykernel)",
   "language": "python",
   "name": "python3"
  },
  "language_info": {
   "codemirror_mode": {
    "name": "ipython",
    "version": 3
   },
   "file_extension": ".py",
   "mimetype": "text/x-python",
   "name": "python",
   "nbconvert_exporter": "python",
   "pygments_lexer": "ipython3",
   "version": "3.9.12"
  }
 },
 "nbformat": 4,
 "nbformat_minor": 5
}
